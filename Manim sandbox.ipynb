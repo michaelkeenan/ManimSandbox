{
 "cells": [
  {
   "cell_type": "markdown",
   "id": "substantial-impact",
   "metadata": {},
   "source": [
    "# Manim sandbox"
   ]
  },
  {
   "cell_type": "markdown",
   "id": "09772cf0-1dae-4814-99fc-77b9f73184f2",
   "metadata": {},
   "source": [
    "(based on [https://hub.2i2c.mybinder.org/user/manimcommunity-jupyter_examples-yy4favq4/notebooks/First%20Steps%20with%20Manim.ipynb](https://hub.2i2c.mybinder.org/user/manimcommunity-jupyter_examples-yy4favq4/notebooks/First%20Steps%20with%20Manim.ipynb))"
   ]
  },
  {
   "cell_type": "markdown",
   "id": "first-armenia",
   "metadata": {},
   "source": [
    "This is a temporary test environment in which you can play around with Manim without the need of installing it locally. Some basic knowledge of Python is helpful! Keep in mind that this is a *temporary* environment, though: your changes will not be saved and cannot be shared with others. To save your work, you will need to download the notebook file (\"File > Download as > Notebook (.ipynb)\"). Enjoy!\n",
    "\n",
    "> *Useful resources:* [Documentation](https://docs.manim.community), [Discord](https://discord.gg/mMRrZQW), [Reddit](https://www.reddit.com/r/manim/)"
   ]
  },
  {
   "cell_type": "markdown",
   "id": "honest-cruise",
   "metadata": {},
   "source": [
    "## Setup"
   ]
  },
  {
   "cell_type": "markdown",
   "id": "governing-increase",
   "metadata": {},
   "source": [
    "Run the following code cell to set up your Manim code in subsequent cells."
   ]
  },
  {
   "cell_type": "code",
   "execution_count": 1,
   "id": "wound-foundation",
   "metadata": {},
   "outputs": [
    {
     "name": "stderr",
     "output_type": "stream",
     "text": [
      "/usr/local/lib/python3.11/site-packages/pydub/utils.py:170: RuntimeWarning: Couldn't find ffmpeg or avconv - defaulting to ffmpeg, but may not work\n",
      "  warn(\"Couldn't find ffmpeg or avconv - defaulting to ffmpeg, but may not work\", RuntimeWarning)\n"
     ]
    },
    {
     "name": "stdout",
     "output_type": "stream",
     "text": [
      "0.19.0\n"
     ]
    }
   ],
   "source": [
    "import manim as mn\n",
    "from manim import *\n",
    "\n",
    "config.media_width = \"75%\"\n",
    "config.verbosity = \"WARNING\"\n",
    "\n",
    "print(mn.__version__)"
   ]
  },
  {
   "cell_type": "markdown",
   "id": "respected-copying",
   "metadata": {},
   "source": [
    "If you have executed the cell successfully, a message printing the installed version of the library should have appeared below it. (At time of writing, it's 0.19.0.) A warning about not finding ffmpeg may appear, but in my (Keenan's) experience, video generation works anyway."
   ]
  },
  {
   "cell_type": "markdown",
   "id": "antique-knock",
   "metadata": {},
   "source": [
    "## Example scene"
   ]
  },
  {
   "cell_type": "markdown",
   "id": "drawn-dylan",
   "metadata": {},
   "source": [
    "Run the cell below to confirm that Manim rendering and video display are working."
   ]
  },
  {
   "cell_type": "code",
   "execution_count": 2,
   "id": "complicated-retirement",
   "metadata": {},
   "outputs": [
    {
     "data": {
      "text/html": [
       "<pre style=\"white-space:pre;overflow-x:auto;line-height:normal;font-family:Menlo,'DejaVu Sans Mono',consolas,'Courier New',monospace\">Manim Community <span style=\"color: #008000; text-decoration-color: #008000\">v0.19.0</span>\n",
       "\n",
       "</pre>\n"
      ],
      "text/plain": [
       "Manim Community \u001b[32mv0.\u001b[0m\u001b[32m19.0\u001b[0m\n",
       "\n"
      ]
     },
     "metadata": {},
     "output_type": "display_data"
    },
    {
     "name": "stderr",
     "output_type": "stream",
     "text": [
      "                                                                     "
     ]
    },
    {
     "data": {
      "text/html": [
       "<video src=\"media/jupyter/CircleToSquare@2025-05-23@23-19-58.mp4\" controls autoplay loop style=\"max-width: 75%;\"  >\n",
       "      Your browser does not support the <code>video</code> element.\n",
       "    </video>"
      ],
      "text/plain": [
       "<IPython.core.display.Video object>"
      ]
     },
     "metadata": {},
     "output_type": "display_data"
    }
   ],
   "source": [
    "%%manim -qm CircleToSquare\n",
    "\n",
    "class CircleToSquare(Scene):\n",
    "    def construct(self):\n",
    "        blue_circle = Circle(color=BLUE, fill_opacity=0.5)\n",
    "        green_square = Square(color=GREEN, fill_opacity=0.8)\n",
    "        self.play(Create(blue_circle))\n",
    "        self.wait()\n",
    "        \n",
    "        self.play(Transform(blue_circle, green_square))\n",
    "        self.wait()"
   ]
  },
  {
   "cell_type": "markdown",
   "id": "tutorial-kelly",
   "metadata": {},
   "source": [
    "You can download a video by clicking the three dots at the bottom right, and selecting Download."
   ]
  },
  {
   "cell_type": "markdown",
   "id": "469ea8fd-a45a-434c-881c-7e088d9031a1",
   "metadata": {},
   "source": [
    "# Your Manim code here"
   ]
  },
  {
   "cell_type": "code",
   "execution_count": 3,
   "id": "20928863-11cf-422f-ac8c-00dd3436498b",
   "metadata": {},
   "outputs": [
    {
     "data": {
      "text/html": [
       "<pre style=\"white-space:pre;overflow-x:auto;line-height:normal;font-family:Menlo,'DejaVu Sans Mono',consolas,'Courier New',monospace\">Manim Community <span style=\"color: #008000; text-decoration-color: #008000\">v0.19.0</span>\n",
       "\n",
       "</pre>\n"
      ],
      "text/plain": [
       "Manim Community \u001b[32mv0.\u001b[0m\u001b[32m19.0\u001b[0m\n",
       "\n"
      ]
     },
     "metadata": {},
     "output_type": "display_data"
    },
    {
     "name": "stderr",
     "output_type": "stream",
     "text": [
      "                                                                                      "
     ]
    },
    {
     "data": {
      "text/html": [
       "<video src=\"media/jupyter/AltairLogo@2025-05-23@23-20-11.mp4\" controls autoplay loop style=\"max-width: 75%;\"  >\n",
       "      Your browser does not support the <code>video</code> element.\n",
       "    </video>"
      ],
      "text/plain": [
       "<IPython.core.display.Video object>"
      ]
     },
     "metadata": {},
     "output_type": "display_data"
    }
   ],
   "source": [
    "%%manim -qm AltairLogo\n",
    "\n",
    "config.background_color = '#ffeae3'\n",
    "TEXT_COLOR = DARK_GRAY\n",
    "STROKE_WIDTH = 3\n",
    "\n",
    "class AltairLogo(Scene):\n",
    "    def construct(self):\n",
    "        basic_unit = 1\n",
    "        # big_A = Tex(\"A\", color=TEXT_COLOR).scale(10)\n",
    "        big_square = Square(side_length=4*basic_unit, color=TEXT_COLOR, stroke_width=STROKE_WIDTH)\n",
    "        big_circle = Circle(radius=2*basic_unit, color=TEXT_COLOR, stroke_width=STROKE_WIDTH)\n",
    "\n",
    "        horz_line = Line(\n",
    "            big_square.get_corner(direction=RIGHT),\n",
    "            big_square.get_corner(direction=LEFT),\n",
    "            color=TEXT_COLOR,\n",
    "            stroke_width=STROKE_WIDTH,\n",
    "        )\n",
    "        horz_line.shift(0.08*DOWN)\n",
    "\n",
    "        vert_line = Line(\n",
    "            big_square.get_corner(direction=UP),\n",
    "            big_square.get_corner(direction=DOWN),\n",
    "            color=TEXT_COLOR,\n",
    "            stroke_width=STROKE_WIDTH,\n",
    "        )\n",
    "\n",
    "        diag_line1 = Line(\n",
    "            big_square.get_corner(direction=UP+LEFT),\n",
    "            big_square.get_corner(direction=DOWN+RIGHT),\n",
    "            color=TEXT_COLOR,\n",
    "            stroke_width=STROKE_WIDTH,\n",
    "        )\n",
    "\n",
    "        diag_line2 = Line(\n",
    "            big_square.get_corner(direction=UP+RIGHT),\n",
    "            big_square.get_corner(direction=DOWN+LEFT),\n",
    "            color=TEXT_COLOR,\n",
    "            stroke_width=STROKE_WIDTH,\n",
    "        )\n",
    "\n",
    "        top_circle = Circle(radius=0.44*basic_unit, color=TEXT_COLOR, stroke_width=STROKE_WIDTH)\n",
    "        top_circle.shift(0.28*LEFT*basic_unit)\n",
    "        top_circle.shift(big_square.get_top() + [0, top_circle.radius, 0])\n",
    "\n",
    "        med_left_circle = Circle(radius=0.56*basic_unit, color=TEXT_COLOR, stroke_width=STROKE_WIDTH)\n",
    "        med_left_circle.shift(2.12*LEFT*basic_unit)\n",
    "        med_left_circle.shift(big_square.get_bottom() + [0, med_left_circle.radius, 0])\n",
    "\n",
    "        med_right_circle = Circle(radius=0.52*basic_unit, color=TEXT_COLOR, stroke_width=STROKE_WIDTH)\n",
    "        med_right_circle.shift(2.32*RIGHT*basic_unit)\n",
    "        med_right_circle.shift(big_square.get_bottom() + [0, med_right_circle.radius, 0])\n",
    "\n",
    "\n",
    "        small_left_circle = Circle(radius=med_left_circle.radius/2, color=TEXT_COLOR, stroke_width=STROKE_WIDTH)\n",
    "        small_left_circle.shift(1.12*LEFT*basic_unit)\n",
    "        small_left_circle.shift(big_square.get_bottom() + [0, small_left_circle.radius, 0])\n",
    "\n",
    "        small_right_circle = Circle(radius=small_left_circle.radius, color=TEXT_COLOR, stroke_width=STROKE_WIDTH)\n",
    "        small_right_circle.shift([-small_left_circle.get_x(), 0, 0])\n",
    "        small_right_circle.shift(big_square.get_bottom() + [0, small_right_circle.radius, 0])\n",
    "\n",
    "\n",
    "\n",
    "\n",
    "\n",
    "\n",
    "        shape = VMobject(\n",
    "            fill_opacity=1,\n",
    "            color=BLACK,\n",
    "            fill_color=TEXT_COLOR,\n",
    "            stroke_width=2,\n",
    "        )\n",
    "\n",
    "        shape.start_new_path(small_left_circle.get_bottom())\n",
    "        shape.add_line_to(med_left_circle.get_bottom())\n",
    "        arc1 = ArcBetweenPoints(\n",
    "            start=med_left_circle.get_bottom(),\n",
    "            end=med_left_circle.get_right()*[1, 1.1, 1], #CALIBRATE\n",
    "            radius=med_left_circle.radius,\n",
    "        )\n",
    "        for path in arc1.get_subpaths():\n",
    "            shape.add_subpath(path)\n",
    "        top_circle_almost_bottom = top_circle.get_bottom()*[0.7, 1, 1] #CALIBRATE\n",
    "        shape.add_line_to(top_circle_almost_bottom)\n",
    "        arc2 = ArcBetweenPoints(\n",
    "            start=top_circle_almost_bottom,\n",
    "            end=top_circle.get_right()*[0.7, 0.9, 1], #CALIBRATE\n",
    "            radius=top_circle.radius,\n",
    "        )\n",
    "        for path in arc2.get_subpaths():\n",
    "            shape.add_subpath(path)\n",
    "        med_right_circle_almost_left = med_right_circle.get_left()*[1, 1.08, 1] #CALIBRATE\n",
    "        shape.add_line_to(med_right_circle_almost_left)\n",
    "        arc3 = ArcBetweenPoints(\n",
    "            start=med_right_circle_almost_left,\n",
    "            end=med_right_circle.get_bottom(),\n",
    "            radius=med_right_circle.radius,\n",
    "        )\n",
    "        for path in arc3.get_subpaths():\n",
    "            shape.add_subpath(path)\n",
    "        shape.add_line_to(small_right_circle.get_bottom())\n",
    "        arc4 = ArcBetweenPoints(\n",
    "            start=small_right_circle.get_bottom(),\n",
    "            end=small_right_circle.get_right()*[0.97, 0.9, 1], #CALIBRATE\n",
    "            radius=small_right_circle.radius,\n",
    "        )\n",
    "        for path in arc4.get_subpaths():\n",
    "            shape.add_subpath(path)\n",
    "        crossbar_bottom = -0.2*basic_unit\n",
    "        shape.add_line_to(ORIGIN+[0.6*small_right_circle.get_center()[0], crossbar_bottom, 0]) #CALIBRATE\n",
    "        shape.add_line_to(ORIGIN+[0.7*small_left_circle.get_center()[0], crossbar_bottom, 0]) #CALIBRATE\n",
    "        small_left_circle_almost_left = small_left_circle.get_left()*[0.97, 0.9, 1] #CALIBRATE\n",
    "        shape.add_line_to(small_left_circle_almost_left)\n",
    "        arc5 = ArcBetweenPoints(\n",
    "            start=small_left_circle_almost_left,\n",
    "            end=small_left_circle.get_bottom(),\n",
    "            radius=small_left_circle.radius,\n",
    "        )\n",
    "        for path in arc5.get_subpaths():\n",
    "            shape.add_subpath(path)\n",
    "\n",
    "\n",
    "        triangle_top = 1.7*UP*basic_unit + 0.1*LEFT*basic_unit #CALIBRATE\n",
    "        crossbar_top = 0.08*DOWN*basic_unit #CALIBRATE\n",
    "        shape.start_new_path(triangle_top)\n",
    "        shape.add_line_to(0.75*LEFT*basic_unit + crossbar_top) #CALIBRATE\n",
    "        shape.add_line_to(0.65*RIGHT*basic_unit + crossbar_top) #CALIBRATE\n",
    "        shape.add_line_to(triangle_top)\n",
    "\n",
    "\n",
    "\n",
    "\n",
    "\n",
    "\n",
    "\n",
    "\n",
    "\n",
    "        self.play(\n",
    "            AnimationGroup(\n",
    "                Create(big_square),\n",
    "                Create(big_circle),\n",
    "                Create(diag_line1),\n",
    "                Create(vert_line),\n",
    "                Create(diag_line2),\n",
    "                Create(horz_line),\n",
    "                Create(top_circle),\n",
    "                Create(med_left_circle),\n",
    "                Create(small_left_circle),\n",
    "                Create(small_right_circle),\n",
    "                Create(med_right_circle),\n",
    "                DrawBorderThenFill(\n",
    "                    shape,\n",
    "                    stroke_width=2,\n",
    "                    run_time=4,\n",
    "                    # draw_border_animation_config={'run_time': 8},\n",
    "                ),\n",
    "                lag_ratio=0.1,\n",
    "            )\n",
    "        )\n",
    "\n",
    "\n",
    "\n",
    "\n",
    "\n",
    "\n",
    "\n",
    "        self.wait()"
   ]
  },
  {
   "cell_type": "markdown",
   "id": "3033b6b8-4761-405e-a583-a10f408b32c2",
   "metadata": {},
   "source": [
    "# Keenan git import test"
   ]
  },
  {
   "cell_type": "code",
   "execution_count": 7,
   "id": "e7a83ad3-193c-4bb7-bf26-7b06c62eeff8",
   "metadata": {},
   "outputs": [
    {
     "name": "stdout",
     "output_type": "stream",
     "text": [
      "\u001b[31m  ERROR: Error [Errno 2] No such file or directory: 'git' while executing command git version\u001b[0m\u001b[31m\n",
      "\u001b[0m\u001b[31mERROR: Cannot find command 'git' - do you have 'git' installed and in your PATH?\u001b[0m\u001b[31m\n",
      "\u001b[0m\n",
      "\u001b[1m[\u001b[0m\u001b[34;49mnotice\u001b[0m\u001b[1;39;49m]\u001b[0m\u001b[39;49m A new release of pip is available: \u001b[0m\u001b[31;49m24.0\u001b[0m\u001b[39;49m -> \u001b[0m\u001b[32;49m25.1.1\u001b[0m\n",
      "\u001b[1m[\u001b[0m\u001b[34;49mnotice\u001b[0m\u001b[1;39;49m]\u001b[0m\u001b[39;49m To update, run: \u001b[0m\u001b[32;49mpip install --upgrade pip\u001b[0m\n",
      "Note: you may need to restart the kernel to use updated packages.\n"
     ]
    },
    {
     "ename": "ModuleNotFoundError",
     "evalue": "No module named 'entropy_and_optimization'",
     "output_type": "error",
     "traceback": [
      "\u001b[0;31m---------------------------------------------------------------------------\u001b[0m",
      "\u001b[0;31mModuleNotFoundError\u001b[0m                       Traceback (most recent call last)",
      "Cell \u001b[0;32mIn[7], line 2\u001b[0m\n\u001b[1;32m      1\u001b[0m get_ipython()\u001b[38;5;241m.\u001b[39mrun_line_magic(\u001b[38;5;124m'\u001b[39m\u001b[38;5;124mpip\u001b[39m\u001b[38;5;124m'\u001b[39m, \u001b[38;5;124m'\u001b[39m\u001b[38;5;124minstall -qU manim git+https://github.com/alexaltair/manim-scripts.git\u001b[39m\u001b[38;5;124m'\u001b[39m)\n\u001b[0;32m----> 2\u001b[0m \u001b[38;5;28;01mfrom\u001b[39;00m\u001b[38;5;250m \u001b[39m\u001b[38;5;21;01mentropy_and_optimization\u001b[39;00m\u001b[38;5;250m \u001b[39m\u001b[38;5;28;01mimport\u001b[39;00m optimization_config\n",
      "\u001b[0;31mModuleNotFoundError\u001b[0m: No module named 'entropy_and_optimization'"
     ]
    }
   ],
   "source": [
    "%pip install -qU manim git+https://github.com/alexaltair/manim-scripts.git\n",
    "from entropy_and_optimization import optimization_config\n"
   ]
  },
  {
   "cell_type": "code",
   "execution_count": null,
   "id": "dfd8a4fa-0d38-4780-afcf-f602a0cd0750",
   "metadata": {},
   "outputs": [],
   "source": []
  }
 ],
 "metadata": {
  "kernelspec": {
   "display_name": "Python 3 (ipykernel)",
   "language": "python",
   "name": "python3"
  },
  "language_info": {
   "codemirror_mode": {
    "name": "ipython",
    "version": 3
   },
   "file_extension": ".py",
   "mimetype": "text/x-python",
   "name": "python",
   "nbconvert_exporter": "python",
   "pygments_lexer": "ipython3",
   "version": "3.11.11"
  }
 },
 "nbformat": 4,
 "nbformat_minor": 5
}
